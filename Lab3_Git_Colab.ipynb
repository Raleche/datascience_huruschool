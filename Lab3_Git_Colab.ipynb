{
  "nbformat": 4,
  "nbformat_minor": 0,
  "metadata": {
    "colab": {
      "name": "Lab3_Git_Colab.ipynb",
      "provenance": [],
      "authorship_tag": "ABX9TyPtYDaaVNkUiFckj7lorF7V",
      "include_colab_link": true
    },
    "kernelspec": {
      "name": "python3",
      "display_name": "Python 3"
    },
    "language_info": {
      "name": "python"
    }
  },
  "cells": [
    {
      "cell_type": "markdown",
      "metadata": {
        "id": "view-in-github",
        "colab_type": "text"
      },
      "source": [
        "<a href=\"https://colab.research.google.com/github/Raleche/datascience_huruschool/blob/main/Lab3_Git_Colab.ipynb\" target=\"_parent\"><img src=\"https://colab.research.google.com/assets/colab-badge.svg\" alt=\"Open In Colab\"/></a>"
      ]
    },
    {
      "cell_type": "markdown",
      "metadata": {
        "id": "pWPcrDfMdhdy"
      },
      "source": [
        "Data structure: **Stack**"
      ]
    },
    {
      "cell_type": "code",
      "metadata": {
        "colab": {
          "base_uri": "https://localhost:8080/"
        },
        "id": "H0Ok-efmdw10",
        "outputId": "a3c25895-780b-4220-ffc5-c820a47e2c3c"
      },
      "source": [
        "# Implementation of a stack \n",
        "\n",
        "# implementing stack from list\n",
        "my_stack = [1,3,5,6]\n",
        "\n",
        "# adding number to the stack\n",
        "my_stack.append(8)\n",
        "\n",
        "print(my_stack)\n",
        "\n",
        "print(type(my_stack))\n",
        "\n",
        "# removing top element from the stack\n",
        "my_stack.pop()\n",
        "\n",
        "print(my_stack)"
      ],
      "execution_count": 2,
      "outputs": [
        {
          "output_type": "stream",
          "text": [
            "[1, 3, 5, 6, 8]\n",
            "<class 'list'>\n",
            "[1, 3, 5, 6]\n"
          ],
          "name": "stdout"
        }
      ]
    },
    {
      "cell_type": "markdown",
      "metadata": {
        "id": "0w2s5XoMdyXg"
      },
      "source": [
        "Data structure: **Queue**"
      ]
    },
    {
      "cell_type": "code",
      "metadata": {
        "colab": {
          "base_uri": "https://localhost:8080/"
        },
        "id": "wwuTkOMwd7SG",
        "outputId": "db012006-f9b0-401c-8a3f-874611f0a3f6"
      },
      "source": [
        "# Implementation of a Queue \n",
        "fruits_que = []  \n",
        "  \n",
        "fruits_que.append('Apple')  \n",
        "fruits_que.append('Mango')  \n",
        "fruits_que.append('Papaya')\n",
        "fruits_que.append('Orange')   \n",
        "\n",
        "\n",
        "print(fruits_que)  \n",
        "\n",
        "\n",
        "print(type(fruits_que))\n",
        "  \n",
        "# List is slow!  \n",
        "print(fruits_que.pop(0))  "
      ],
      "execution_count": 3,
      "outputs": [
        {
          "output_type": "stream",
          "text": [
            "['Apple', 'Mango', 'Papaya', 'Orange']\n",
            "<class 'list'>\n",
            "Apple\n"
          ],
          "name": "stdout"
        }
      ]
    }
  ]
}